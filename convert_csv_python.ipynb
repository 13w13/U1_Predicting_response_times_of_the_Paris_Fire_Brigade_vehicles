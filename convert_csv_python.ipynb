{
 "cells": [
  {
   "cell_type": "code",
   "execution_count": 88,
   "metadata": {},
   "outputs": [],
   "source": [
    "import pandas as pd\n",
    "import pandas as pd\n",
    "import numpy as np\n",
    "from sklearn.preprocessing import PolynomialFeatures\n",
    "from sklearn.linear_model import LinearRegression\n",
    "\n",
    "# Data reading\n",
    "x_train = pd.read_csv('x_train.csv', sep=',')\n",
    "y_train = pd.read_csv('y_train.csv', sep=',')\n",
    "x_test = pd.read_csv('x_test.csv', sep=',')\n",
    "\n",
    "x_train_transit = x_train[['OSRM estimated distance','intervention on public roads','floor']]\n",
    "y_train_transit = y_train[['delta departure-presentation']]\n",
    "x_test_transit = x_test[['OSRM estimated distance','intervention on public roads','floor']]\n",
    "\n",
    "# Create a predictive model for the 'delta departure-presentation'\n",
    "# based on 'OSRM estimated distance', 'intervention on public roads' and 'floor'\n",
    "polynomial_features= PolynomialFeatures(degree=3)\n",
    "x_train_transit_poly = polynomial_features.fit_transform(x_train_transit)\n",
    "model = LinearRegression()\n",
    "model.fit(x_train_transit_poly, y_train_transit)\n",
    "\n",
    "# Prediction of the 'delta selection-presentation'\n",
    "x_test_transit_poly = polynomial_features.fit_transform(x_test_transit)\n",
    "y_selection_presentation_predicted = y_train['delta selection-departure'].median() + model.predict(x_test_transit_poly)\n",
    "\n",
    "# Create a submission file\n",
    "submission = pd.concat([pd.DataFrame(x_test[['emergency vehicle selection']].values), \\\n",
    "           pd.DataFrame(np.full((len(x_test), 1), y_train['delta selection-departure'].median())), \\\n",
    "           pd.DataFrame(model.predict(x_test_transit_poly)), \\\n",
    "           pd.DataFrame(y_selection_presentation_predicted)], \\\n",
    "           axis=1)\n",
    "\n",
    "submission.columns = list(y_train.columns.values)\n",
    "\n",
    "submission.set_index('emergency vehicle selection', inplace=True)\n",
    "\n",
    "submission.to_csv('./submission.csv', sep=\",\")\n",
    "\n",
    "#### Evaluation function ####\n",
    "# from sklearn.metrics import r2_score\n",
    "# \n",
    "# r2_score(observed_values,predited_values)\n",
    "#############################\n"
   ]
  },
  {
   "cell_type": "code",
   "execution_count": 89,
   "metadata": {},
   "outputs": [],
   "source": [
    "commit = pd.read_csv('y_test.csv', sep=',')"
   ]
  },
  {
   "cell_type": "code",
   "execution_count": 90,
   "metadata": {},
   "outputs": [],
   "source": [
    "commit.columns = list(y_train.columns.values)\n",
    "\n",
    "commit.set_index('emergency vehicle selection', inplace=True)"
   ]
  },
  {
   "cell_type": "code",
   "execution_count": 91,
   "metadata": {},
   "outputs": [
    {
     "data": {
      "text/plain": [
       "delta selection-departure       int64\n",
       "delta departure-presentation    int64\n",
       "delta selection-presentation    int64\n",
       "dtype: object"
      ]
     },
     "execution_count": 91,
     "metadata": {},
     "output_type": "execute_result"
    }
   ],
   "source": [
    "commit.dtypes"
   ]
  },
  {
   "cell_type": "code",
   "execution_count": 92,
   "metadata": {},
   "outputs": [
    {
     "data": {
      "text/plain": [
       "delta selection-departure       float64\n",
       "delta departure-presentation    float64\n",
       "delta selection-presentation    float64\n",
       "dtype: object"
      ]
     },
     "execution_count": 92,
     "metadata": {},
     "output_type": "execute_result"
    }
   ],
   "source": [
    "submission.dtypes"
   ]
  },
  {
   "cell_type": "code",
   "execution_count": 93,
   "metadata": {},
   "outputs": [],
   "source": [
    "commit[\"delta selection-presentation\"]=commit[\"delta selection-presentation\"].astype(float)\n",
    "commit[\"delta selection-departure\"]=commit[\"delta selection-departure\"].astype(float)\n",
    "commit[\"delta departure-presentation\"]=commit[\"delta selection-presentation\"].astype(float)"
   ]
  },
  {
   "cell_type": "code",
   "execution_count": 51,
   "metadata": {},
   "outputs": [],
   "source": [
    "commit.drop('emergency vehicle selection', inplace=True, axis=1)"
   ]
  },
  {
   "cell_type": "code",
   "execution_count": 94,
   "metadata": {},
   "outputs": [],
   "source": [
    "commit.to_csv('y_test.csv', sep=\",\")"
   ]
  }
 ],
 "metadata": {
  "kernelspec": {
   "display_name": "Python 3",
   "language": "python",
   "name": "python3"
  },
  "language_info": {
   "codemirror_mode": {
    "name": "ipython",
    "version": 3
   },
   "file_extension": ".py",
   "mimetype": "text/x-python",
   "name": "python",
   "nbconvert_exporter": "python",
   "pygments_lexer": "ipython3",
   "version": "3.7.9"
  }
 },
 "nbformat": 4,
 "nbformat_minor": 4
}
